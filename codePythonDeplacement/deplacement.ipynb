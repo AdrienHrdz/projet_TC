{
 "cells": [
  {
   "cell_type": "code",
   "execution_count": 3,
   "metadata": {},
   "outputs": [],
   "source": [
    "def avancer():\n",
    "    ssh_stdin, ssh_stdout, ssh_stderr = ssh.exec_command('cd /home/pi/Documents/PTC/configGPIO && python3 avancer.py')\n",
    "    \n",
    "    return ssh_stdin, ssh_stdout, ssh_stderr\n",
    "\n",
    "def tourneGauche():\n",
    "    ssh_stdin, ssh_stdout, ssh_stderr = ssh.exec_command('cd /home/pi/Documents/PTC/configGPIO && python3 tourneGauche.py')\n",
    "    \n",
    "    return ssh_stdin, ssh_stdout, ssh_stderr\n",
    "\n",
    "def tourneDroite():\n",
    "    ssh_stdin, ssh_stdout, ssh_stderr = ssh.exec_command('cd /home/pi/Documents/PTC/configGPIO && python3 tourneDroite.py')\n",
    "    \n",
    "    return ssh_stdin, ssh_stdout, ssh_stderr\n",
    "\n",
    "def stop():\n",
    "    ssh_stdin, ssh_stdout, ssh_stderr = ssh.exec_command('cd /home/pi/Documents/PTC/configGPIO && python3 stop.py')\n",
    "    \n",
    "    return ssh_stdin, ssh_stdout, ssh_stderr"
   ]
  },
  {
   "cell_type": "code",
   "execution_count": null,
   "metadata": {},
   "outputs": [],
   "source": [
    "def affichage_pwd():\n",
    "    ssh_stdin, ssh_stdout, ssh_stderr = ssh.exec_command('pwd')\n",
    "    \n",
    "    return ssh_stdin, ssh_stdout, ssh_stderr"
   ]
  },
  {
   "cell_type": "code",
   "execution_count": null,
   "metadata": {},
   "outputs": [],
   "source": [
    "import paramiko\n",
    "import time\n",
    "\n",
    "\n",
    "server='192.168.169.212'\n",
    "usr='pi'\n",
    "psswd='raspberry'"
   ]
  },
  {
   "cell_type": "markdown",
   "metadata": {},
   "source": []
  },
  {
   "cell_type": "code",
   "execution_count": null,
   "metadata": {},
   "outputs": [],
   "source": [
    "ssh = paramiko.SSHClient()\n",
    "ssh.set_missing_host_key_policy(paramiko.AutoAddPolicy())\n",
    "ssh.connect(server, username=usr, password=psswd)\n",
    "print('Connecté')"
   ]
  },
  {
   "cell_type": "code",
   "execution_count": null,
   "metadata": {},
   "outputs": [],
   "source": [
    "#ssh1,ssh2,ssh3 =avancer()\n",
    "\n",
    "#ssh2.read().decode().strip()\n"
   ]
  },
  {
   "cell_type": "code",
   "execution_count": null,
   "metadata": {},
   "outputs": [],
   "source": [
    "ssh1,ssh2,ssh3 =avancer()\n",
    "time.sleep(10)\n",
    "ssh1,ssh2,ssh3 =tourneGauche()\n",
    "time.sleep(10)\n",
    "ssh1,ssh2,ssh3 =tourneDroite()"
   ]
  }
 ],
 "metadata": {
  "interpreter": {
   "hash": "1e6ad00754ca8e69651cb29d1c126676779f9d95d55353a59ad2a5ce9cc5c389"
  },
  "kernelspec": {
   "display_name": "Python 3.9.12 64-bit",
   "language": "python",
   "name": "python3"
  },
  "language_info": {
   "codemirror_mode": {
    "name": "ipython",
    "version": 3
   },
   "file_extension": ".py",
   "mimetype": "text/x-python",
   "name": "python",
   "nbconvert_exporter": "python",
   "pygments_lexer": "ipython3",
   "version": "3.9.12"
  },
  "orig_nbformat": 4
 },
 "nbformat": 4,
 "nbformat_minor": 2
}
