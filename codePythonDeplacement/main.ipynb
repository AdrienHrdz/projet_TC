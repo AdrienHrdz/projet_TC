{
 "cells": [
  {
   "cell_type": "code",
   "execution_count": null,
   "metadata": {},
   "outputs": [],
   "source": [
    "import paramiko\n",
    "import time\n",
    "\n",
    "# adresse ip à modifier selon le serveur\n",
    "server='192.168.123.212'\n",
    "usr='pi'\n",
    "psswd='raspberry'\n",
    "\n",
    "remote_filename = '/home/pi/Documents/PTC/communicationPi-Ordi/GPIO_distance.txt'"
   ]
  },
  {
   "cell_type": "code",
   "execution_count": null,
   "metadata": {},
   "outputs": [],
   "source": [
    "## Ouverture du client SSH ##\n",
    "\n",
    "ssh_client = paramiko.SSHClient()\n",
    "ssh_client.set_missing_host_key_policy(paramiko.AutoAddPolicy())\n",
    "ssh_client.connect(server, username=usr, password=psswd)\n",
    "print('Connecté')"
   ]
  },
  {
   "cell_type": "code",
   "execution_count": null,
   "metadata": {},
   "outputs": [],
   "source": [
    "def avancer():\n",
    "    ssh_stdin, ssh_stdout, ssh_stderr = ssh_client.exec_command('cd /home/pi/Documents/PTC/configGPIO && python3 avancer.py')\n",
    "    \n",
    "    return ssh_stdin, ssh_stdout, ssh_stderr\n",
    "\n",
    "def tourneGauche():\n",
    "    ssh_stdin, ssh_stdout, ssh_stderr = ssh_client.exec_command('cd /home/pi/Documents/PTC/configGPIO && python3 tourneGauche.py')\n",
    "    \n",
    "    return ssh_stdin, ssh_stdout, ssh_stderr\n",
    "\n",
    "def tourneDroite():\n",
    "    ssh_stdin, ssh_stdout, ssh_stderr = ssh_client.exec_command('cd /home/pi/Documents/PTC/configGPIO && python3 tourneDroite.py')\n",
    "    \n",
    "    return ssh_stdin, ssh_stdout, ssh_stderr\n",
    "\n",
    "def stop():\n",
    "    ssh_stdin, ssh_stdout, ssh_stderr = ssh_client.exec_command('cd /home/pi/Documents/PTC/configGPIO && python3 stop.py')\n",
    "    \n",
    "    return ssh_stdin, ssh_stdout, ssh_stderr"
   ]
  },
  {
   "cell_type": "code",
   "execution_count": null,
   "metadata": {},
   "outputs": [],
   "source": [
    "def lancementCollecteDonnees():\n",
    "    ssh_stdin, ssh_stdout, ssh_stderr = ssh_client.exec_command('cd /home/pi/Documents/PTC/recolteDonneesCapteur8051 && python3 collect_data.py')\n",
    "    \n",
    "    return ssh_stdin, ssh_stdout, ssh_stderr"
   ]
  },
  {
   "cell_type": "code",
   "execution_count": null,
   "metadata": {},
   "outputs": [],
   "source": [
    "## Lancement de la collecte de données ##\n",
    "ssh_stdin, ssh_stdout, ssh_stderr = lancementCollecteDonnees()\n",
    "time.sleep(10)"
   ]
  },
  {
   "cell_type": "code",
   "execution_count": null,
   "metadata": {},
   "outputs": [],
   "source": [
    "## Boucle embarquée ##\n",
    "condition = True\n",
    "while condition:\n",
    "    ## Lecture du fichier distant ##\n",
    "    sftp_client = ssh_client.open_sftp()\n",
    "    remote_file = sftp_client.open(remote_filename)\n",
    "    try:\n",
    "        for line in remote_file:\n",
    "            etat = int(line.strip())\n",
    "    finally:\n",
    "        remote_file.close()\n",
    "        sftp_client.close()\n",
    "    \n",
    "    ## Traitement du déplacement ##\n",
    "    \n",
    "    condition = False\n",
    "\n",
    "    if etat == 0:\n",
    "        # Pas d'obstacle, on avance\n",
    "        ssh_stdin, ssh_stdout, ssh_stderr = avancer()\n",
    "        time.sleep(7)\n",
    "        pass\n",
    "\n",
    "    elif etat == 1:\n",
    "        # Obstacle, on fait gaffe\n",
    "        ssh_stdin, ssh_stdout, ssh_stderr = tourneDroite()\n",
    "        pass\n",
    "\n",
    "    else:\n",
    "        pass"
   ]
  }
 ],
 "metadata": {
  "interpreter": {
   "hash": "1e6ad00754ca8e69651cb29d1c126676779f9d95d55353a59ad2a5ce9cc5c389"
  },
  "kernelspec": {
   "display_name": "Python 3.9.12 64-bit",
   "language": "python",
   "name": "python3"
  },
  "language_info": {
   "codemirror_mode": {
    "name": "ipython",
    "version": 3
   },
   "file_extension": ".py",
   "mimetype": "text/x-python",
   "name": "python",
   "nbconvert_exporter": "python",
   "pygments_lexer": "ipython3",
   "version": "3.9.12"
  },
  "orig_nbformat": 4
 },
 "nbformat": 4,
 "nbformat_minor": 2
}
