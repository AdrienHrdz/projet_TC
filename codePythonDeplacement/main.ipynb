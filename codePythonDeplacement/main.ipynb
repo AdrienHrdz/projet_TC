{
 "cells": [
  {
   "cell_type": "code",
   "execution_count": 8,
   "metadata": {},
   "outputs": [],
   "source": [
    "import paramiko\n",
    "import time\n",
    "\n",
    "# adresse ip à modifier selon le serveur\n",
    "server='192.168.97.212'\n",
    "usr='pi'\n",
    "psswd='raspberry'\n",
    "\n",
    "remote_filename = '/home/pi/Documents/PTC/communicationPi-Ordi/GPIO_distance.txt'"
   ]
  },
  {
   "cell_type": "code",
   "execution_count": 9,
   "metadata": {},
   "outputs": [],
   "source": [
    "## Fonctions pour la connexion SSH ##\n",
    "def OpenConnection(server, usr, psswd):\n",
    "    ssh_client = paramiko.SSHClient()\n",
    "    ssh_client.set_missing_host_key_policy(paramiko.AutoAddPolicy())\n",
    "    ssh_client.connect(server, username=usr, password=psswd)\n",
    "    print('Connecté')\n",
    "\n",
    "    return ssh_client\n",
    "\n",
    "def ResetConnection(ssh_client):\n",
    "    # close ssh connection\n",
    "    ssh_client.close()\n",
    "    \n",
    "    # re-open ssh connection\n",
    "    #global ssh_client\n",
    "    ssh_client = paramiko.SSHClient()\n",
    "    ssh_client.set_missing_host_key_policy(paramiko.AutoAddPolicy())\n",
    "    ssh_client.connect(server, username=usr, password=psswd)\n",
    "    print(\"Connecté\")\n",
    "\n",
    "    return ssh_client\n",
    "\n",
    "## Fonctions pour le robot ##\n",
    "def avancer(ssh_client):\n",
    "    ssh_stdin, ssh_stdout, ssh_stderr = ssh_client.exec_command('cd /home/pi/Documents/PTC/configGPIO && python3 avancer.py')\n",
    "    \n",
    "    return ssh_stdin, ssh_stdout, ssh_stderr\n",
    "\n",
    "def tourneGauche(ssh_client):\n",
    "    ssh_stdin, ssh_stdout, ssh_stderr = ssh_client.exec_command('cd /home/pi/Documents/PTC/configGPIO && python3 tourneGauche.py')\n",
    "    \n",
    "    return ssh_stdin, ssh_stdout, ssh_stderr\n",
    "\n",
    "def tourneDroite(ssh_client):\n",
    "    ssh_stdin, ssh_stdout, ssh_stderr = ssh_client.exec_command('cd /home/pi/Documents/PTC/configGPIO && python3 tourneDroite.py')\n",
    "    \n",
    "    return ssh_stdin, ssh_stdout, ssh_stderr\n",
    "\n",
    "def stop(ssh_client):\n",
    "    ssh_stdin, ssh_stdout, ssh_stderr = ssh_client.exec_command('cd /home/pi/Documents/PTC/configGPIO && python3 stop.py')\n",
    "    \n",
    "    return ssh_stdin, ssh_stdout, ssh_stderr\n",
    "\n",
    "def lancementCollecteDonnees(ssh_client):\n",
    "    ssh_stdin, ssh_stdout, ssh_stderr = ssh_client.exec_command('cd /home/pi/Documents/PTC/recolteDonneesCapteur8051 && python3 collect_data.py')\n",
    "    \n",
    "    return ssh_stdin, ssh_stdout, ssh_stderr\n"
   ]
  },
  {
   "cell_type": "code",
   "execution_count": 10,
   "metadata": {},
   "outputs": [
    {
     "name": "stdout",
     "output_type": "stream",
     "text": [
      "Connecté\n"
     ]
    }
   ],
   "source": [
    "## Ouverture du client SSH ##\n",
    "ssh_client = OpenConnection(server, usr, psswd)"
   ]
  },
  {
   "cell_type": "code",
   "execution_count": 11,
   "metadata": {},
   "outputs": [],
   "source": [
    "## Lancement de la collecte de données ##\n",
    "ssh_stdin, ssh_stdout, ssh_stderr = lancementCollecteDonnees(ssh_client)\n",
    "time.sleep(2)"
   ]
  },
  {
   "cell_type": "code",
   "execution_count": 14,
   "metadata": {},
   "outputs": [],
   "source": [
    "## Boucle infinie ##\n",
    "condition = True\n",
    "while condition:\n",
    "    ## Lecture du fichier distant ##\n",
    "    sftp_client = ssh_client.open_sftp()\n",
    "    remote_file = sftp_client.open(remote_filename)\n",
    "    try:\n",
    "        for line in remote_file:\n",
    "            etat = int(line.strip())\n",
    "    finally:\n",
    "        remote_file.close()\n",
    "        sftp_client.close()\n",
    "    \n",
    "    ## Traitement du déplacement ##\n",
    "    \n",
    "    condition = False\n",
    "\n",
    "    if etat == 0:\n",
    "        # Pas d'obstacle, on avance\n",
    "        ssh_stdin, ssh_stdout, ssh_stderr = avancer(ssh_client)\n",
    "        time.sleep(7)\n",
    "        \n",
    "\n",
    "    elif etat == 1:\n",
    "        # Obstacle, on fait gaffe\n",
    "        ssh_stdin, ssh_stdout, ssh_stderr = tourneDroite(ssh_client)\n",
    "        time.sleep(7)\n",
    "\n",
    "    else:\n",
    "        condition = True\n",
    "        ssh_client = ResetConnection(ssh_client)\n",
    "        "
   ]
  }
 ],
 "metadata": {
  "interpreter": {
   "hash": "5224275e57f2d7280ff183f5ab68c95f7a46add83e6e4bcb45e60b126a430ed9"
  },
  "kernelspec": {
   "display_name": "Python 3.9.12 64-bit",
   "language": "python",
   "name": "python3"
  },
  "language_info": {
   "codemirror_mode": {
    "name": "ipython",
    "version": 3
   },
   "file_extension": ".py",
   "mimetype": "text/x-python",
   "name": "python",
   "nbconvert_exporter": "python",
   "pygments_lexer": "ipython3",
   "version": "3.9.12"
  },
  "orig_nbformat": 4
 },
 "nbformat": 4,
 "nbformat_minor": 2
}
